{
  "nbformat": 4,
  "nbformat_minor": 0,
  "metadata": {
    "colab": {
      "provenance": []
    },
    "kernelspec": {
      "name": "python3",
      "display_name": "Python 3"
    },
    "language_info": {
      "name": "python"
    }
  },
  "cells": [
    {
      "cell_type": "code",
      "execution_count": 1,
      "metadata": {
        "colab": {
          "base_uri": "https://localhost:8080/"
        },
        "id": "Zh6orpt1V0uQ",
        "outputId": "7dbb3ed4-7538-419e-de64-1c9b0948ee50"
      },
      "outputs": [
        {
          "output_type": "stream",
          "name": "stdout",
          "text": [
            "Requirement already satisfied: astropy in /usr/local/lib/python3.11/dist-packages (7.0.1)\n",
            "Requirement already satisfied: scikit-learn in /usr/local/lib/python3.11/dist-packages (1.6.1)\n",
            "Requirement already satisfied: matplotlib in /usr/local/lib/python3.11/dist-packages (3.10.0)\n",
            "Requirement already satisfied: numpy in /usr/local/lib/python3.11/dist-packages (2.0.2)\n",
            "Requirement already satisfied: opencv-python in /usr/local/lib/python3.11/dist-packages (4.11.0.86)\n",
            "Requirement already satisfied: pyerfa>=2.0.1.1 in /usr/local/lib/python3.11/dist-packages (from astropy) (2.0.1.5)\n",
            "Requirement already satisfied: astropy-iers-data>=0.2025.1.31.12.41.4 in /usr/local/lib/python3.11/dist-packages (from astropy) (0.2025.3.31.0.36.18)\n",
            "Requirement already satisfied: PyYAML>=6.0.0 in /usr/local/lib/python3.11/dist-packages (from astropy) (6.0.2)\n",
            "Requirement already satisfied: packaging>=22.0.0 in /usr/local/lib/python3.11/dist-packages (from astropy) (24.2)\n",
            "Requirement already satisfied: scipy>=1.6.0 in /usr/local/lib/python3.11/dist-packages (from scikit-learn) (1.14.1)\n",
            "Requirement already satisfied: joblib>=1.2.0 in /usr/local/lib/python3.11/dist-packages (from scikit-learn) (1.4.2)\n",
            "Requirement already satisfied: threadpoolctl>=3.1.0 in /usr/local/lib/python3.11/dist-packages (from scikit-learn) (3.6.0)\n",
            "Requirement already satisfied: contourpy>=1.0.1 in /usr/local/lib/python3.11/dist-packages (from matplotlib) (1.3.1)\n",
            "Requirement already satisfied: cycler>=0.10 in /usr/local/lib/python3.11/dist-packages (from matplotlib) (0.12.1)\n",
            "Requirement already satisfied: fonttools>=4.22.0 in /usr/local/lib/python3.11/dist-packages (from matplotlib) (4.56.0)\n",
            "Requirement already satisfied: kiwisolver>=1.3.1 in /usr/local/lib/python3.11/dist-packages (from matplotlib) (1.4.8)\n",
            "Requirement already satisfied: pillow>=8 in /usr/local/lib/python3.11/dist-packages (from matplotlib) (11.1.0)\n",
            "Requirement already satisfied: pyparsing>=2.3.1 in /usr/local/lib/python3.11/dist-packages (from matplotlib) (3.2.3)\n",
            "Requirement already satisfied: python-dateutil>=2.7 in /usr/local/lib/python3.11/dist-packages (from matplotlib) (2.8.2)\n",
            "Requirement already satisfied: six>=1.5 in /usr/local/lib/python3.11/dist-packages (from python-dateutil>=2.7->matplotlib) (1.17.0)\n"
          ]
        }
      ],
      "source": [
        "!pip install astropy scikit-learn matplotlib numpy opencv-python"
      ]
    },
    {
      "cell_type": "code",
      "source": [
        "# Step 1: Import necessary libraries\n",
        "import pandas as pd\n",
        "from google.colab import files\n",
        "\n",
        "# Step 2: Upload the CSV file from your computer\n",
        "uploaded = files.upload()  # This will open a file dialog to choose your file"
      ],
      "metadata": {
        "colab": {
          "base_uri": "https://localhost:8080/",
          "height": 1000
        },
        "id": "88K3fL9RWoLO",
        "outputId": "62633d1c-e6e8-4ca0-ffa0-286eef0d882f"
      },
      "execution_count": 2,
      "outputs": [
        {
          "output_type": "display_data",
          "data": {
            "text/plain": [
              "<IPython.core.display.HTML object>"
            ],
            "text/html": [
              "\n",
              "     <input type=\"file\" id=\"files-1fbdb408-d3ce-47c4-bb9e-793b51891cc4\" name=\"files[]\" multiple disabled\n",
              "        style=\"border:none\" />\n",
              "     <output id=\"result-1fbdb408-d3ce-47c4-bb9e-793b51891cc4\">\n",
              "      Upload widget is only available when the cell has been executed in the\n",
              "      current browser session. Please rerun this cell to enable.\n",
              "      </output>\n",
              "      <script>// Copyright 2017 Google LLC\n",
              "//\n",
              "// Licensed under the Apache License, Version 2.0 (the \"License\");\n",
              "// you may not use this file except in compliance with the License.\n",
              "// You may obtain a copy of the License at\n",
              "//\n",
              "//      http://www.apache.org/licenses/LICENSE-2.0\n",
              "//\n",
              "// Unless required by applicable law or agreed to in writing, software\n",
              "// distributed under the License is distributed on an \"AS IS\" BASIS,\n",
              "// WITHOUT WARRANTIES OR CONDITIONS OF ANY KIND, either express or implied.\n",
              "// See the License for the specific language governing permissions and\n",
              "// limitations under the License.\n",
              "\n",
              "/**\n",
              " * @fileoverview Helpers for google.colab Python module.\n",
              " */\n",
              "(function(scope) {\n",
              "function span(text, styleAttributes = {}) {\n",
              "  const element = document.createElement('span');\n",
              "  element.textContent = text;\n",
              "  for (const key of Object.keys(styleAttributes)) {\n",
              "    element.style[key] = styleAttributes[key];\n",
              "  }\n",
              "  return element;\n",
              "}\n",
              "\n",
              "// Max number of bytes which will be uploaded at a time.\n",
              "const MAX_PAYLOAD_SIZE = 100 * 1024;\n",
              "\n",
              "function _uploadFiles(inputId, outputId) {\n",
              "  const steps = uploadFilesStep(inputId, outputId);\n",
              "  const outputElement = document.getElementById(outputId);\n",
              "  // Cache steps on the outputElement to make it available for the next call\n",
              "  // to uploadFilesContinue from Python.\n",
              "  outputElement.steps = steps;\n",
              "\n",
              "  return _uploadFilesContinue(outputId);\n",
              "}\n",
              "\n",
              "// This is roughly an async generator (not supported in the browser yet),\n",
              "// where there are multiple asynchronous steps and the Python side is going\n",
              "// to poll for completion of each step.\n",
              "// This uses a Promise to block the python side on completion of each step,\n",
              "// then passes the result of the previous step as the input to the next step.\n",
              "function _uploadFilesContinue(outputId) {\n",
              "  const outputElement = document.getElementById(outputId);\n",
              "  const steps = outputElement.steps;\n",
              "\n",
              "  const next = steps.next(outputElement.lastPromiseValue);\n",
              "  return Promise.resolve(next.value.promise).then((value) => {\n",
              "    // Cache the last promise value to make it available to the next\n",
              "    // step of the generator.\n",
              "    outputElement.lastPromiseValue = value;\n",
              "    return next.value.response;\n",
              "  });\n",
              "}\n",
              "\n",
              "/**\n",
              " * Generator function which is called between each async step of the upload\n",
              " * process.\n",
              " * @param {string} inputId Element ID of the input file picker element.\n",
              " * @param {string} outputId Element ID of the output display.\n",
              " * @return {!Iterable<!Object>} Iterable of next steps.\n",
              " */\n",
              "function* uploadFilesStep(inputId, outputId) {\n",
              "  const inputElement = document.getElementById(inputId);\n",
              "  inputElement.disabled = false;\n",
              "\n",
              "  const outputElement = document.getElementById(outputId);\n",
              "  outputElement.innerHTML = '';\n",
              "\n",
              "  const pickedPromise = new Promise((resolve) => {\n",
              "    inputElement.addEventListener('change', (e) => {\n",
              "      resolve(e.target.files);\n",
              "    });\n",
              "  });\n",
              "\n",
              "  const cancel = document.createElement('button');\n",
              "  inputElement.parentElement.appendChild(cancel);\n",
              "  cancel.textContent = 'Cancel upload';\n",
              "  const cancelPromise = new Promise((resolve) => {\n",
              "    cancel.onclick = () => {\n",
              "      resolve(null);\n",
              "    };\n",
              "  });\n",
              "\n",
              "  // Wait for the user to pick the files.\n",
              "  const files = yield {\n",
              "    promise: Promise.race([pickedPromise, cancelPromise]),\n",
              "    response: {\n",
              "      action: 'starting',\n",
              "    }\n",
              "  };\n",
              "\n",
              "  cancel.remove();\n",
              "\n",
              "  // Disable the input element since further picks are not allowed.\n",
              "  inputElement.disabled = true;\n",
              "\n",
              "  if (!files) {\n",
              "    return {\n",
              "      response: {\n",
              "        action: 'complete',\n",
              "      }\n",
              "    };\n",
              "  }\n",
              "\n",
              "  for (const file of files) {\n",
              "    const li = document.createElement('li');\n",
              "    li.append(span(file.name, {fontWeight: 'bold'}));\n",
              "    li.append(span(\n",
              "        `(${file.type || 'n/a'}) - ${file.size} bytes, ` +\n",
              "        `last modified: ${\n",
              "            file.lastModifiedDate ? file.lastModifiedDate.toLocaleDateString() :\n",
              "                                    'n/a'} - `));\n",
              "    const percent = span('0% done');\n",
              "    li.appendChild(percent);\n",
              "\n",
              "    outputElement.appendChild(li);\n",
              "\n",
              "    const fileDataPromise = new Promise((resolve) => {\n",
              "      const reader = new FileReader();\n",
              "      reader.onload = (e) => {\n",
              "        resolve(e.target.result);\n",
              "      };\n",
              "      reader.readAsArrayBuffer(file);\n",
              "    });\n",
              "    // Wait for the data to be ready.\n",
              "    let fileData = yield {\n",
              "      promise: fileDataPromise,\n",
              "      response: {\n",
              "        action: 'continue',\n",
              "      }\n",
              "    };\n",
              "\n",
              "    // Use a chunked sending to avoid message size limits. See b/62115660.\n",
              "    let position = 0;\n",
              "    do {\n",
              "      const length = Math.min(fileData.byteLength - position, MAX_PAYLOAD_SIZE);\n",
              "      const chunk = new Uint8Array(fileData, position, length);\n",
              "      position += length;\n",
              "\n",
              "      const base64 = btoa(String.fromCharCode.apply(null, chunk));\n",
              "      yield {\n",
              "        response: {\n",
              "          action: 'append',\n",
              "          file: file.name,\n",
              "          data: base64,\n",
              "        },\n",
              "      };\n",
              "\n",
              "      let percentDone = fileData.byteLength === 0 ?\n",
              "          100 :\n",
              "          Math.round((position / fileData.byteLength) * 100);\n",
              "      percent.textContent = `${percentDone}% done`;\n",
              "\n",
              "    } while (position < fileData.byteLength);\n",
              "  }\n",
              "\n",
              "  // All done.\n",
              "  yield {\n",
              "    response: {\n",
              "      action: 'complete',\n",
              "    }\n",
              "  };\n",
              "}\n",
              "\n",
              "scope.google = scope.google || {};\n",
              "scope.google.colab = scope.google.colab || {};\n",
              "scope.google.colab._files = {\n",
              "  _uploadFiles,\n",
              "  _uploadFilesContinue,\n",
              "};\n",
              "})(self);\n",
              "</script> "
            ]
          },
          "metadata": {}
        },
        {
          "output_type": "stream",
          "name": "stdout",
          "text": [
            "Saving planet0_00226_1250.fits to planet0_00226_1250.fits\n",
            "Saving planet1_00490_1250.fits to planet1_00490_1250.fits\n",
            "Saving planet2_00154_1250.fits to planet2_00154_1250.fits\n",
            "Saving planet2_00308_1250.fits to planet2_00308_1250.fits\n",
            "Saving planet2_00548_1250.fits to planet2_00548_1250.fits\n",
            "Saving planet2_00708_1250.fits to planet2_00708_1250.fits\n",
            "Saving planet3_00078_1250.fits to planet3_00078_1250.fits\n",
            "Saving planet3_00654_1250.fits to planet3_00654_1250.fits\n",
            "Saving planet3_00806_1250.fits to planet3_00806_1250.fits\n",
            "Saving planet3_00896_1250.fits to planet3_00896_1250.fits\n",
            "Saving planet4_00442_1250.fits to planet4_00442_1250.fits\n",
            "Saving planet5_00354_1250.fits to planet5_00354_1250.fits\n",
            "Saving planet5_00482_1250.fits to planet5_00482_1250.fits\n",
            "Saving planet5_00882_1250.fits to planet5_00882_1250.fits\n",
            "Saving planet6_00370_1250.fits to planet6_00370_1250.fits\n",
            "Saving planet6_00566_1250.fits to planet6_00566_1250.fits\n",
            "Saving planet6_00638_1250.fits to planet6_00638_1250.fits\n",
            "Saving planet6_00704_1250.fits to planet6_00704_1250.fits\n",
            "Saving planet7_00202_1250.fits to planet7_00202_1250.fits\n",
            "Saving planet7_00730_1250.fits to planet7_00730_1250.fits\n",
            "Saving planet8_00100_1250.fits to planet8_00100_1250.fits\n",
            "Saving planet8_00128_1250.fits to planet8_00128_1250.fits\n",
            "Saving planet8_00214_1250.fits to planet8_00214_1250.fits\n",
            "Saving planet8_00248_1250.fits to planet8_00248_1250.fits\n",
            "Saving planet8_00320_1250.fits to planet8_00320_1250.fits\n",
            "Saving planet9_00440_1250.fits to planet9_00440_1250.fits\n",
            "Saving planet9_00916_1250.fits to planet9_00916_1250.fits\n",
            "Saving planet10_00710_1250.fits to planet10_00710_1250.fits\n",
            "Saving planet10_00816_1250.fits to planet10_00816_1250.fits\n",
            "Saving planet11_00010_1250.fits to planet11_00010_1250.fits\n",
            "Saving planet11_00700_1250.fits to planet11_00700_1250.fits\n",
            "Saving planet11_00886_1250.fits to planet11_00886_1250.fits\n",
            "Saving planet13_00098_1250.fits to planet13_00098_1250.fits\n",
            "Saving planet13_00302_1250.fits to planet13_00302_1250.fits\n",
            "Saving planet13_00324_1250.fits to planet13_00324_1250.fits\n",
            "Saving planet14_00314_1250.fits to planet14_00314_1250.fits\n",
            "Saving planet14_00528_1250.fits to planet14_00528_1250.fits\n",
            "Saving planet14_00804_1250.fits to planet14_00804_1250.fits\n",
            "Saving planet14_00914_1250.fits to planet14_00914_1250.fits\n",
            "Saving planet15_00186_1250.fits to planet15_00186_1250.fits\n",
            "Saving planet16_00614_1250.fits to planet16_00614_1250.fits\n",
            "Saving planet17_00162_1250.fits to planet17_00162_1250.fits\n",
            "Saving planet17_00506_1250.fits to planet17_00506_1250.fits\n",
            "Saving planet17_00648_1250.fits to planet17_00648_1250.fits\n",
            "Saving planet18_00114_1250.fits to planet18_00114_1250.fits\n",
            "Saving planet18_00942_1250.fits to planet18_00942_1250.fits\n",
            "Saving planet18_00992_1250.fits to planet18_00992_1250.fits\n",
            "Saving planet19_00914_1250.fits to planet19_00914_1250.fits\n",
            "Saving planet20_00230_1250.fits to planet20_00230_1250.fits\n",
            "Saving planet20_00336_1250.fits to planet20_00336_1250.fits\n",
            "Saving planet20_00468_1250.fits to planet20_00468_1250.fits\n",
            "Saving planet21_00136_1250.fits to planet21_00136_1250.fits\n",
            "Saving planet21_00282_1250.fits to planet21_00282_1250.fits\n",
            "Saving planet21_00852_1250.fits to planet21_00852_1250.fits\n",
            "Saving planet22_00198_1250.fits to planet22_00198_1250.fits\n",
            "Saving planet22_00416_1250.fits to planet22_00416_1250.fits\n",
            "Saving planet22_00440_1250.fits to planet22_00440_1250.fits\n",
            "Saving planet23_00310_1250.fits to planet23_00310_1250.fits\n",
            "Saving planet23_00668_1250.fits to planet23_00668_1250.fits\n",
            "Saving planet24_00394_1250.fits to planet24_00394_1250.fits\n",
            "Saving planet25_00222_1250.fits to planet25_00222_1250.fits\n",
            "Saving planet25_00584_1250.fits to planet25_00584_1250.fits\n",
            "Saving planet26_00764_1250.fits to planet26_00764_1250.fits\n",
            "Saving planet26_00912_1250.fits to planet26_00912_1250.fits\n",
            "Saving planet27_00976_1250.fits to planet27_00976_1250.fits\n",
            "Saving planet28_00612_1250.fits to planet28_00612_1250.fits\n",
            "Saving planet28_00914_1250.fits to planet28_00914_1250.fits\n",
            "Saving planet29_00518_1250.fits to planet29_00518_1250.fits\n",
            "Saving planet30_00166_1250.fits to planet30_00166_1250.fits\n",
            "Saving planet30_00510_1250.fits to planet30_00510_1250.fits\n",
            "Saving planet31_00214_1250.fits to planet31_00214_1250.fits\n",
            "Saving planet32_00676_1250.fits to planet32_00676_1250.fits\n",
            "Saving planet33_00102_1250.fits to planet33_00102_1250.fits\n",
            "Saving planet33_00310_1250.fits to planet33_00310_1250.fits\n",
            "Saving planet34_00334_1250.fits to planet34_00334_1250.fits\n",
            "Saving planet34_00418_1250.fits to planet34_00418_1250.fits\n",
            "Saving planet35_00114_1250.fits to planet35_00114_1250.fits\n",
            "Saving planet36_00342_1250.fits to planet36_00342_1250.fits\n",
            "Saving planet37_00370_1250.fits to planet37_00370_1250.fits\n",
            "Saving planet37_00414_1250.fits to planet37_00414_1250.fits\n",
            "Saving planet37_00962_1250.fits to planet37_00962_1250.fits\n",
            "Saving planet38_00100_1250.fits to planet38_00100_1250.fits\n",
            "Saving planet38_00948_1250.fits to planet38_00948_1250.fits\n",
            "Saving planet38_00980_1250.fits to planet38_00980_1250.fits\n",
            "Saving planet40_00352_1250.fits to planet40_00352_1250.fits\n",
            "Saving planet40_00370_1250.fits to planet40_00370_1250.fits\n",
            "Saving planet40_00648_1250.fits to planet40_00648_1250.fits\n",
            "Saving planet41_00576_1250.fits to planet41_00576_1250.fits\n",
            "Saving planet41_00734_1250.fits to planet41_00734_1250.fits\n",
            "Saving planet41_00784_1250.fits to planet41_00784_1250.fits\n",
            "Saving planet41_00952_1250.fits to planet41_00952_1250.fits\n",
            "Saving planet42_00240_1250.fits to planet42_00240_1250.fits\n",
            "Saving planet42_00400_1250.fits to planet42_00400_1250.fits\n",
            "Saving planet43_00358_1250.fits to planet43_00358_1250.fits\n",
            "Saving planet43_00480_1250.fits to planet43_00480_1250.fits\n",
            "Saving planet43_00524_1250.fits to planet43_00524_1250.fits\n",
            "Saving planet44_00308_1250.fits to planet44_00308_1250.fits\n",
            "Saving planet44_00346_1250.fits to planet44_00346_1250.fits\n",
            "Saving planet45_00608_1250.fits to planet45_00608_1250.fits\n",
            "Saving planet45_00886_1250.fits to planet45_00886_1250.fits\n",
            "Saving planet45_00952_1250.fits to planet45_00952_1250.fits\n",
            "Saving planet47_00278_1250.fits to planet47_00278_1250.fits\n",
            "Saving planet48_00154_1250.fits to planet48_00154_1250.fits\n",
            "Saving planet48_00468_1250.fits to planet48_00468_1250.fits\n",
            "Saving planet50_00420_1250.fits to planet50_00420_1250.fits\n",
            "Saving planet50_00566_1250.fits to planet50_00566_1250.fits\n",
            "Saving planet51_00342_1250.fits to planet51_00342_1250.fits\n",
            "Saving planet51_00842_1250.fits to planet51_00842_1250.fits\n",
            "Saving planet53_00116_1250.fits to planet53_00116_1250.fits\n",
            "Saving planet54_00984_1250.fits to planet54_00984_1250.fits\n",
            "Saving planet55_00320_1250.fits to planet55_00320_1250.fits\n",
            "Saving planet55_00394_1250.fits to planet55_00394_1250.fits\n",
            "Saving planet56_00754_1250.fits to planet56_00754_1250.fits\n",
            "Saving planet57_00268_1250.fits to planet57_00268_1250.fits\n",
            "Saving planet60_00344_1250.fits to planet60_00344_1250.fits\n",
            "Saving planet60_00482_1250.fits to planet60_00482_1250.fits\n",
            "Saving planet64_00624_1250.fits to planet64_00624_1250.fits\n",
            "Saving planet68_00640_1250.fits to planet68_00640_1250.fits\n",
            "Saving planet68_00920_1250.fits to planet68_00920_1250.fits\n",
            "Saving planet69_00470_1250.fits to planet69_00470_1250.fits\n",
            "Saving planet70_00322_1250.fits to planet70_00322_1250.fits\n",
            "Saving planet72_00164_1250.fits to planet72_00164_1250.fits\n",
            "Saving planet72_00236_1250.fits to planet72_00236_1250.fits\n",
            "Saving planet72_00300_1250.fits to planet72_00300_1250.fits\n",
            "Saving planet72_00984_1250.fits to planet72_00984_1250.fits\n",
            "Saving planet80_00754_1250.fits to planet80_00754_1250.fits\n",
            "Saving planet83_00156_1250.fits to planet83_00156_1250.fits\n",
            "Saving planet84_00174_1250.fits to planet84_00174_1250.fits\n",
            "Saving planet86_00120_1250.fits to planet86_00120_1250.fits\n",
            "Saving planet86_00414_1250.fits to planet86_00414_1250.fits\n",
            "Saving planet86_00602_1250.fits to planet86_00602_1250.fits\n",
            "Saving planet88_00674_1250.fits to planet88_00674_1250.fits\n",
            "Saving planet89_00170_1250.fits to planet89_00170_1250.fits\n",
            "Saving planet89_00294_1250.fits to planet89_00294_1250.fits\n",
            "Saving planet92_00296_1250.fits to planet92_00296_1250.fits\n",
            "Saving planet92_00530_1250.fits to planet92_00530_1250.fits\n",
            "Saving planet96_00646_1250.fits to planet96_00646_1250.fits\n",
            "Saving planet96_00808_1250.fits to planet96_00808_1250.fits\n",
            "Saving planet97_00282_1250.fits to planet97_00282_1250.fits\n",
            "Saving planet99_00400_1250.fits to planet99_00400_1250.fits\n",
            "Saving planet100_00580_1250.fits to planet100_00580_1250.fits\n",
            "Saving planet101_00972_1250.fits to planet101_00972_1250.fits\n",
            "Saving planet101_00988_1250.fits to planet101_00988_1250.fits\n",
            "Saving planet102_00142_1250.fits to planet102_00142_1250.fits\n",
            "Saving planet102_00188_1250.fits to planet102_00188_1250.fits\n",
            "Saving planet102_00222_1250.fits to planet102_00222_1250.fits\n",
            "Saving planet102_00230_1250.fits to planet102_00230_1250.fits\n",
            "Saving planet102_00346_1250.fits to planet102_00346_1250.fits\n",
            "Saving planet103_00510_1250.fits to planet103_00510_1250.fits\n",
            "Saving planet103_00718_1250.fits to planet103_00718_1250.fits\n"
          ]
        }
      ]
    },
    {
      "cell_type": "code",
      "source": [
        "from google.colab import files\n",
        "uploaded = files.upload()  # Upload your continuum_data_subset.zip"
      ],
      "metadata": {
        "colab": {
          "base_uri": "https://localhost:8080/",
          "height": 71
        },
        "id": "zYV6qaZjW64s",
        "outputId": "992243ef-c390-40be-e224-15cde83df664"
      },
      "execution_count": 6,
      "outputs": [
        {
          "output_type": "display_data",
          "data": {
            "text/plain": [
              "<IPython.core.display.HTML object>"
            ],
            "text/html": [
              "\n",
              "     <input type=\"file\" id=\"files-2850a8b1-07c4-4b57-a572-f9bb1e8fe1cb\" name=\"files[]\" multiple disabled\n",
              "        style=\"border:none\" />\n",
              "     <output id=\"result-2850a8b1-07c4-4b57-a572-f9bb1e8fe1cb\">\n",
              "      Upload widget is only available when the cell has been executed in the\n",
              "      current browser session. Please rerun this cell to enable.\n",
              "      </output>\n",
              "      <script>// Copyright 2017 Google LLC\n",
              "//\n",
              "// Licensed under the Apache License, Version 2.0 (the \"License\");\n",
              "// you may not use this file except in compliance with the License.\n",
              "// You may obtain a copy of the License at\n",
              "//\n",
              "//      http://www.apache.org/licenses/LICENSE-2.0\n",
              "//\n",
              "// Unless required by applicable law or agreed to in writing, software\n",
              "// distributed under the License is distributed on an \"AS IS\" BASIS,\n",
              "// WITHOUT WARRANTIES OR CONDITIONS OF ANY KIND, either express or implied.\n",
              "// See the License for the specific language governing permissions and\n",
              "// limitations under the License.\n",
              "\n",
              "/**\n",
              " * @fileoverview Helpers for google.colab Python module.\n",
              " */\n",
              "(function(scope) {\n",
              "function span(text, styleAttributes = {}) {\n",
              "  const element = document.createElement('span');\n",
              "  element.textContent = text;\n",
              "  for (const key of Object.keys(styleAttributes)) {\n",
              "    element.style[key] = styleAttributes[key];\n",
              "  }\n",
              "  return element;\n",
              "}\n",
              "\n",
              "// Max number of bytes which will be uploaded at a time.\n",
              "const MAX_PAYLOAD_SIZE = 100 * 1024;\n",
              "\n",
              "function _uploadFiles(inputId, outputId) {\n",
              "  const steps = uploadFilesStep(inputId, outputId);\n",
              "  const outputElement = document.getElementById(outputId);\n",
              "  // Cache steps on the outputElement to make it available for the next call\n",
              "  // to uploadFilesContinue from Python.\n",
              "  outputElement.steps = steps;\n",
              "\n",
              "  return _uploadFilesContinue(outputId);\n",
              "}\n",
              "\n",
              "// This is roughly an async generator (not supported in the browser yet),\n",
              "// where there are multiple asynchronous steps and the Python side is going\n",
              "// to poll for completion of each step.\n",
              "// This uses a Promise to block the python side on completion of each step,\n",
              "// then passes the result of the previous step as the input to the next step.\n",
              "function _uploadFilesContinue(outputId) {\n",
              "  const outputElement = document.getElementById(outputId);\n",
              "  const steps = outputElement.steps;\n",
              "\n",
              "  const next = steps.next(outputElement.lastPromiseValue);\n",
              "  return Promise.resolve(next.value.promise).then((value) => {\n",
              "    // Cache the last promise value to make it available to the next\n",
              "    // step of the generator.\n",
              "    outputElement.lastPromiseValue = value;\n",
              "    return next.value.response;\n",
              "  });\n",
              "}\n",
              "\n",
              "/**\n",
              " * Generator function which is called between each async step of the upload\n",
              " * process.\n",
              " * @param {string} inputId Element ID of the input file picker element.\n",
              " * @param {string} outputId Element ID of the output display.\n",
              " * @return {!Iterable<!Object>} Iterable of next steps.\n",
              " */\n",
              "function* uploadFilesStep(inputId, outputId) {\n",
              "  const inputElement = document.getElementById(inputId);\n",
              "  inputElement.disabled = false;\n",
              "\n",
              "  const outputElement = document.getElementById(outputId);\n",
              "  outputElement.innerHTML = '';\n",
              "\n",
              "  const pickedPromise = new Promise((resolve) => {\n",
              "    inputElement.addEventListener('change', (e) => {\n",
              "      resolve(e.target.files);\n",
              "    });\n",
              "  });\n",
              "\n",
              "  const cancel = document.createElement('button');\n",
              "  inputElement.parentElement.appendChild(cancel);\n",
              "  cancel.textContent = 'Cancel upload';\n",
              "  const cancelPromise = new Promise((resolve) => {\n",
              "    cancel.onclick = () => {\n",
              "      resolve(null);\n",
              "    };\n",
              "  });\n",
              "\n",
              "  // Wait for the user to pick the files.\n",
              "  const files = yield {\n",
              "    promise: Promise.race([pickedPromise, cancelPromise]),\n",
              "    response: {\n",
              "      action: 'starting',\n",
              "    }\n",
              "  };\n",
              "\n",
              "  cancel.remove();\n",
              "\n",
              "  // Disable the input element since further picks are not allowed.\n",
              "  inputElement.disabled = true;\n",
              "\n",
              "  if (!files) {\n",
              "    return {\n",
              "      response: {\n",
              "        action: 'complete',\n",
              "      }\n",
              "    };\n",
              "  }\n",
              "\n",
              "  for (const file of files) {\n",
              "    const li = document.createElement('li');\n",
              "    li.append(span(file.name, {fontWeight: 'bold'}));\n",
              "    li.append(span(\n",
              "        `(${file.type || 'n/a'}) - ${file.size} bytes, ` +\n",
              "        `last modified: ${\n",
              "            file.lastModifiedDate ? file.lastModifiedDate.toLocaleDateString() :\n",
              "                                    'n/a'} - `));\n",
              "    const percent = span('0% done');\n",
              "    li.appendChild(percent);\n",
              "\n",
              "    outputElement.appendChild(li);\n",
              "\n",
              "    const fileDataPromise = new Promise((resolve) => {\n",
              "      const reader = new FileReader();\n",
              "      reader.onload = (e) => {\n",
              "        resolve(e.target.result);\n",
              "      };\n",
              "      reader.readAsArrayBuffer(file);\n",
              "    });\n",
              "    // Wait for the data to be ready.\n",
              "    let fileData = yield {\n",
              "      promise: fileDataPromise,\n",
              "      response: {\n",
              "        action: 'continue',\n",
              "      }\n",
              "    };\n",
              "\n",
              "    // Use a chunked sending to avoid message size limits. See b/62115660.\n",
              "    let position = 0;\n",
              "    do {\n",
              "      const length = Math.min(fileData.byteLength - position, MAX_PAYLOAD_SIZE);\n",
              "      const chunk = new Uint8Array(fileData, position, length);\n",
              "      position += length;\n",
              "\n",
              "      const base64 = btoa(String.fromCharCode.apply(null, chunk));\n",
              "      yield {\n",
              "        response: {\n",
              "          action: 'append',\n",
              "          file: file.name,\n",
              "          data: base64,\n",
              "        },\n",
              "      };\n",
              "\n",
              "      let percentDone = fileData.byteLength === 0 ?\n",
              "          100 :\n",
              "          Math.round((position / fileData.byteLength) * 100);\n",
              "      percent.textContent = `${percentDone}% done`;\n",
              "\n",
              "    } while (position < fileData.byteLength);\n",
              "  }\n",
              "\n",
              "  // All done.\n",
              "  yield {\n",
              "    response: {\n",
              "      action: 'complete',\n",
              "    }\n",
              "  };\n",
              "}\n",
              "\n",
              "scope.google = scope.google || {};\n",
              "scope.google.colab = scope.google.colab || {};\n",
              "scope.google.colab._files = {\n",
              "  _uploadFiles,\n",
              "  _uploadFilesContinue,\n",
              "};\n",
              "})(self);\n",
              "</script> "
            ]
          },
          "metadata": {}
        },
        {
          "output_type": "stream",
          "name": "stdout",
          "text": [
            "Saving planet0_00226_1250.fits to planet0_00226_1250 (1).fits\n"
          ]
        }
      ]
    },
    {
      "cell_type": "code",
      "source": [
        "from astropy.io import fits\n",
        "\n",
        "# Example: Read the first .fits file\n",
        "fits_file_path = \"/content/planet0_00226_1250.fits\"\n",
        "hdul = fits.open(fits_file_path)\n",
        "\n",
        "# Check what's inside\n",
        "hdul.info()\n",
        "\n",
        "# View data (e.g., image array)\n",
        "data = hdul[0].data\n",
        "print(data.shape)\n",
        "\n",
        "# Close after reading\n",
        "hdul.close()\n"
      ],
      "metadata": {
        "colab": {
          "base_uri": "https://localhost:8080/"
        },
        "id": "DGODH1oaW9_w",
        "outputId": "3206000d-979f-49a6-e63d-34646cb152ca"
      },
      "execution_count": 8,
      "outputs": [
        {
          "output_type": "stream",
          "name": "stdout",
          "text": [
            "Filename: /content/planet0_00226_1250.fits\n",
            "No.    Name      Ver    Type      Cards   Dimensions   Format\n",
            "  0  PRIMARY       1 PrimaryHDU      27   (600, 600, 1, 1, 4)   float32   \n",
            "  1                1 ImageHDU        10   (4, 1, 1, 2)   float32   \n",
            "  2                1 ImageHDU         9   (4, 1, 1)   float32   \n",
            "  3                1 ImageHDU         8   (3, 4)   float32   \n",
            "(4, 1, 1, 600, 600)\n"
          ]
        }
      ]
    },
    {
      "cell_type": "code",
      "source": [
        "from astropy.io import fits\n",
        "\n",
        "# Load the FITS file\n",
        "file_path = \"/content/planet0_00226_1250.fits\"\n",
        "hdul = fits.open(file_path)\n",
        "\n",
        "# See the structure\n",
        "hdul.info()\n",
        "\n",
        "# Extract data from Primary HDU (usually index 0)\n",
        "primary_data = hdul[0].data\n",
        "\n",
        "# Print shape of the primary data\n",
        "print(\"Primary HDU shape:\", primary_data.shape)\n",
        "\n",
        "#  Optional: Remove extra singleton dimensions\n",
        "import numpy as np\n",
        "image_data = np.squeeze(primary_data)\n",
        "print(\"Cleaned image shape:\", image_data.shape)\n",
        "\n",
        "# Always close after reading\n",
        "hdul.close()\n"
      ],
      "metadata": {
        "colab": {
          "base_uri": "https://localhost:8080/"
        },
        "id": "dr6wyH6fmi8W",
        "outputId": "53a3447d-faf1-4e90-97c6-ef6353837933"
      },
      "execution_count": 9,
      "outputs": [
        {
          "output_type": "stream",
          "name": "stdout",
          "text": [
            "Filename: /content/planet0_00226_1250.fits\n",
            "No.    Name      Ver    Type      Cards   Dimensions   Format\n",
            "  0  PRIMARY       1 PrimaryHDU      27   (600, 600, 1, 1, 4)   float32   \n",
            "  1                1 ImageHDU        10   (4, 1, 1, 2)   float32   \n",
            "  2                1 ImageHDU         9   (4, 1, 1)   float32   \n",
            "  3                1 ImageHDU         8   (3, 4)   float32   \n",
            "Primary HDU shape: (4, 1, 1, 600, 600)\n",
            "Cleaned image shape: (4, 600, 600)\n"
          ]
        }
      ]
    },
    {
      "cell_type": "code",
      "source": [
        "import matplotlib.pyplot as plt\n",
        "\n",
        "# Display the FITS image\n",
        "plt.figure(figsize=(6, 6))\n",
        "plt.imshow(image_data[0], cmap='gray')  # Assuming you want the first image in stack\n",
        "plt.title(\"FITS Image\")\n",
        "plt.axis('off')\n",
        "plt.colorbar()\n",
        "plt.show()"
      ],
      "metadata": {
        "colab": {
          "base_uri": "https://localhost:8080/",
          "height": 522
        },
        "id": "ve0wFjG1msT3",
        "outputId": "3c12a27c-8b43-48b5-f8e1-396030c705c4"
      },
      "execution_count": 10,
      "outputs": [
        {
          "output_type": "display_data",
          "data": {
            "text/plain": [
              "<Figure size 600x600 with 2 Axes>"
            ],
            "image/png": "[encoded data removed]"
          },
          "metadata": {}
        }
      ]
    },
    {
      "cell_type": "code",
      "source": [
        "import numpy as np\n",
        "\n",
        "mean_val = np.mean(image_data)\n",
        "max_val = np.max(image_data)\n",
        "print(f\"Mean: {mean_val:.3e}, Max: {max_val:.3e}\")"
      ],
      "metadata": {
        "colab": {
          "base_uri": "https://localhost:8080/"
        },
        "id": "iiXG73EOnL4E",
        "outputId": "d1dd65a8-9cbd-445e-9bee-5ec79c56d070"
      },
      "execution_count": 12,
      "outputs": [
        {
          "output_type": "stream",
          "name": "stdout",
          "text": [
            "Mean: 5.588e-23, Max: 2.330e-20\n"
          ]
        }
      ]
    },
    {
      "cell_type": "code",
      "source": [
        "normalized_image = (image_data - np.min(image_data)) / (np.max(image_data) - np.min(image_data))"
      ],
      "metadata": {
        "id": "abbkLMznnXu0"
      },
      "execution_count": 14,
      "outputs": []
    },
    {
      "cell_type": "code",
      "source": [
        "from astropy.io import fits\n",
        "\n",
        "hdu = fits.PrimaryHDU(image_data)\n",
        "hdu.writeto(\"cleaned_output.fits\", overwrite=True)\n"
      ],
      "metadata": {
        "id": "KPhsgHAQnkNx"
      },
      "execution_count": 15,
      "outputs": []
    },
    {
      "cell_type": "code",
      "source": [
        "# Step 1: Import necessary libraries\n",
        "from sklearn.cluster import KMeans\n",
        "from sklearn.preprocessing import StandardScaler\n",
        "import numpy as np\n",
        "import matplotlib.pyplot as plt\n",
        "\n",
        "# Flatten each image (600x600) into a 1D array so it can be fed into ML model\n",
        "# This turns the list of 2D arrays into a 2D array of shape (num_images, image_width * image_height)\n",
        "flattened_images = np.array([img.flatten() for img in image_data])\n",
        "\n",
        "# Normalize the data using StandardScaler (scales pixel values)\n",
        "scaler = StandardScaler()\n",
        "normalized_data = scaler.fit_transform(flattened_images)\n",
        "\n",
        "# S Apply KMeans clustering to group similar disk images\n",
        "# We start with 3 clusters, you can try other values too\n",
        "kmeans = KMeans(n_clusters=3, random_state=42)\n",
        "cluster_labels = kmeans.fit_predict(normalized_data)\n",
        "\n",
        "# Visualize a few clustered examples\n",
        "# Plot 5 images from each cluster\n",
        "num_clusters = 3\n",
        "fig, axes = plt.subplots(num_clusters, 5, figsize=(15, 6))\n",
        "\n",
        "for cluster in range(num_clusters):\n",
        "    cluster_indices = np.where(cluster_labels == cluster)[0]\n",
        "    for i in range(5):\n",
        "        if i < len(cluster_indices):\n",
        "            axes[cluster, i].imshow(image_data[cluster_indices[i]], cmap='gray')\n",
        "            axes[cluster, i].axis('off')\n",
        "            axes[cluster, i].set_title(f'Cluster {cluster}')\n",
        "        else:\n",
        "            axes[cluster, i].axis('off')\n",
        "\n",
        "plt.tight_layout()\n",
        "plt.show()"
      ],
      "metadata": {
        "colab": {
          "base_uri": "https://localhost:8080/",
          "height": 642
        },
        "id": "CqRiD-ZkoIxf",
        "outputId": "ee116820-1df8-4cc2-d639-f4c71d0e9135"
      },
      "execution_count": 18,
      "outputs": [
        {
          "output_type": "stream",
          "name": "stderr",
          "text": [
            "/usr/local/lib/python3.11/dist-packages/sklearn/base.py:1389: ConvergenceWarning: Number of distinct clusters (2) found smaller than n_clusters (3). Possibly due to duplicate points in X.\n",
            "  return fit_method(estimator, *args, **kwargs)\n"
          ]
        },
        {
          "output_type": "display_data",
          "data": {
            "text/plain": [
              "<Figure size 1500x600 with 15 Axes>"
            ],
            "image/png": "[encoded data removed]"
          },
          "metadata": {}
        }
      ]
    },
    {
      "cell_type": "code",
      "source": [
        "# Reduce dimensions to 2D for visualizing clusters\n",
        "from sklearn.decomposition import PCA\n",
        "\n",
        "# PCA to reduce high-dimensional image data to 2D\n",
        "pca = PCA(n_components=2, random_state=42)\n",
        "pca_components = pca.fit_transform(normalized_data)\n",
        "\n",
        "#Plot the clusters in 2D space\n",
        "plt.figure(figsize=(8, 6))\n",
        "for cluster in range(num_clusters):\n",
        "    indices = np.where(cluster_labels == cluster)\n",
        "    plt.scatter(pca_components[indices, 0], pca_components[indices, 1], label=f'Cluster {cluster}', alpha=0.6)\n",
        "\n",
        "plt.title(\"Disk Images Clustered Using KMeans + PCA\")\n",
        "plt.xlabel(\"PCA Component 1\")\n",
        "plt.ylabel(\"PCA Component 2\")\n",
        "plt.legend()\n",
        "plt.grid(True)\n",
        "plt.show()"
      ],
      "metadata": {
        "colab": {
          "base_uri": "https://localhost:8080/",
          "height": 564
        },
        "id": "NX-HVCtyorE5",
        "outputId": "0a9cf20a-2528-42ba-d5a9-28af2a31c1ac"
      },
      "execution_count": 19,
      "outputs": [
        {
          "output_type": "display_data",
          "data": {
            "text/plain": [
              "<Figure size 800x600 with 1 Axes>"
            ],
            "image/png": "[encoded data removed]"
          },
          "metadata": {}
        }
      ]
    },
    {
      "cell_type": "code",
      "source": [
        "# DBSCAN for density-based clustering\n",
        "from sklearn.cluster import DBSCAN\n",
        "\n",
        "dbscan = DBSCAN(eps=5, min_samples=5)\n",
        "db_labels = dbscan.fit_predict(normalized_data)\n",
        "\n",
        "# Plot DBSCAN clusters\n",
        "plt.figure(figsize=(8, 6))\n",
        "plt.scatter(pca_components[:, 0], pca_components[:, 1], c=db_labels, cmap='rainbow', s=10)\n",
        "plt.title(\"DBSCAN Clustering on Disk Images (Visualized via PCA)\")\n",
        "plt.xlabel(\"PCA 1\")\n",
        "plt.ylabel(\"PCA 2\")\n",
        "plt.grid(True)\n",
        "plt.show()"
      ],
      "metadata": {
        "colab": {
          "base_uri": "https://localhost:8080/",
          "height": 564
        },
        "id": "Utvl36Xwowqu",
        "outputId": "15f5452e-261f-47e3-f039-d324370ce5bb"
      },
      "execution_count": 20,
      "outputs": [
        {
          "output_type": "display_data",
          "data": {
            "text/plain": [
              "<Figure size 800x600 with 1 Axes>"
            ],
            "image/png": "[encoded data removed]"
          },
          "metadata": {}
        }
      ]
    },
    {
      "cell_type": "code",
      "source": [
        "import joblib\n",
        "\n",
        "# Save the trained KMeans model\n",
        "joblib.dump(kmeans, 'kmeans_model.pkl')\n",
        "print(\"KMeans model saved as 'kmeans_model.pkl'\")"
      ],
      "metadata": {
        "colab": {
          "base_uri": "https://localhost:8080/"
        },
        "id": "TSuuYSsMpODR",
        "outputId": "4f48cf22-a714-417b-bd74-320fd125052d"
      },
      "execution_count": 21,
      "outputs": [
        {
          "output_type": "stream",
          "name": "stdout",
          "text": [
            "KMeans model saved as 'kmeans_model.pkl'\n"
          ]
        }
      ]
    },
    {
      "cell_type": "code",
      "source": [
        "# Save the DBSCAN model\n",
        "joblib.dump(dbscan, 'dbscan_model.pkl')\n",
        "print(\"DBSCAN model saved as 'dbscan_model.pkl'\")"
      ],
      "metadata": {
        "colab": {
          "base_uri": "https://localhost:8080/"
        },
        "id": "CWGZeZL3pQAL",
        "outputId": "d1fd4cef-0762-442b-a10e-fe88480b5e49"
      },
      "execution_count": 22,
      "outputs": [
        {
          "output_type": "stream",
          "name": "stdout",
          "text": [
            "DBSCAN model saved as 'dbscan_model.pkl'\n"
          ]
        }
      ]
    },
    {
      "cell_type": "code",
      "source": [
        "# Load the KMeans model\n",
        "kmeans_loaded = joblib.load('kmeans_model.pkl')\n",
        "\n",
        "# Load the DBSCAN model\n",
        "dbscan_loaded = joblib.load('dbscan_model.pkl')"
      ],
      "metadata": {
        "id": "bXyT4Jf5pTJX"
      },
      "execution_count": 23,
      "outputs": []
    },
    {
      "cell_type": "markdown",
      "source": [
        "# **REPORT :**\n",
        "\n",
        "## **Project Title:**\n",
        "\n",
        "***Exoplanet Atmosphere Characterization***\n",
        "\n",
        "## **Objective:**\n",
        "To analyze disk structures from FITS image data and group them into similar morphological categories using unsupervised learning.\n",
        "\n",
        "## **Dataset:**\n",
        "Images were in .fits format, containing potential protoplanetary disk observations.\n",
        "\n",
        "Images were manually uploaded and preprocessed.\n",
        "\n",
        "## **Steps Followed:**\n",
        "\n",
        "1. **Data Loading:**\n",
        "\n",
        "Read .fits files using astropy.io.fits.\n",
        "\n",
        "Converted to NumPy arrays and resized to a uniform shape.\n",
        "\n",
        "2. **Preprocessing:**\n",
        "\n",
        "Normalized image pixel values to a 0–1 scale.\n",
        "\n",
        "Flattened image arrays to form feature vectors for clustering.\n",
        "\n",
        "3. **Unsupervised Learning:**\n",
        "\n",
        "Applied KMeans and DBSCAN clustering.\n",
        "\n",
        "Visualized results using PCA to reduce dimensions.\n",
        "\n",
        "4. **Clustering Outcome:**\n",
        "\n",
        "Found potential cluster groups based on disk similarity.\n",
        "\n",
        "Identified anomalies or outliers from DBSCAN output.\n",
        "\n",
        "5. **Model Saving:**\n",
        "\n",
        "Trained models were saved for later use and deployment."
      ],
      "metadata": {
        "id": "CyekYhT6pX3Y"
      }
    }
  ]
}